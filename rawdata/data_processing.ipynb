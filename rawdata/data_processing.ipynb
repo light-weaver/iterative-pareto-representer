{
 "cells": [
  {
   "cell_type": "code",
   "execution_count": 13,
   "metadata": {},
   "outputs": [],
   "source": [
    "import os\n",
    "\n",
    "import pandas as pd"
   ]
  },
  {
   "cell_type": "code",
   "execution_count": 14,
   "metadata": {},
   "outputs": [],
   "source": [
    "# Get all file names in folder\n",
    "\n",
    "files = os.listdir(\"./\")\n",
    "files = [f for f in files if f.endswith(\".dat\")]\n",
    "\n",
    "savepath = \"../data/\""
   ]
  },
  {
   "cell_type": "code",
   "execution_count": 16,
   "metadata": {},
   "outputs": [],
   "source": [
    "# Convert files to csv, add a header, and save\n",
    "for f in files:\n",
    "    df = pd.read_csv(f, sep=\" \", header=None)\n",
    "    df.rename(columns={i: f\"f{i+1}\" for i in range(len(df.columns))}, inplace=True)\n",
    "    df.to_csv(savepath + f.split(\".\")[0].split(\"_\")[-1] + \".csv\", index=False, header=True)"
   ]
  },
  {
   "cell_type": "code",
   "execution_count": null,
   "metadata": {},
   "outputs": [],
   "source": []
  }
 ],
 "metadata": {
  "kernelspec": {
   "display_name": ".venv",
   "language": "python",
   "name": "python3"
  },
  "language_info": {
   "codemirror_mode": {
    "name": "ipython",
    "version": 3
   },
   "file_extension": ".py",
   "mimetype": "text/x-python",
   "name": "python",
   "nbconvert_exporter": "python",
   "pygments_lexer": "ipython3",
   "version": "3.10.13"
  }
 },
 "nbformat": 4,
 "nbformat_minor": 2
}
